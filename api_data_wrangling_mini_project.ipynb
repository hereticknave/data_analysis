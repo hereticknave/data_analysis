{
    "cells": [
        {
            "metadata": {},
            "cell_type": "markdown",
            "source": "This exercise will require you to pull some data from the Qunadl API. Qaundl is currently the most widely used aggregator of financial market data."
        },
        {
            "metadata": {},
            "cell_type": "markdown",
            "source": "As a first step, you will need to register a free account on the http://www.quandl.com website."
        },
        {
            "metadata": {},
            "cell_type": "markdown",
            "source": "After you register, you will be provided with a unique API key, that you should store:"
        },
        {
            "metadata": {},
            "cell_type": "code",
            "source": "# Store the API key as a string - according to PEP8, constants are always named in all upper case\nAPI_KEY = '*************************'",
            "execution_count": 130,
            "outputs": []
        },
        {
            "metadata": {},
            "cell_type": "markdown",
            "source": "Qaundl has a large number of data sources, but, unfortunately, most of them require a Premium subscription. Still, there are also a good number of free datasets."
        },
        {
            "metadata": {},
            "cell_type": "markdown",
            "source": "For this mini project, we will focus on equities data from the Frankfurt Stock Exhange (FSE), which is available for free. We'll try and analyze the stock prices of a company called Carl Zeiss Meditec, which manufactures tools for eye examinations, as well as medical lasers for laser eye surgery: https://www.zeiss.com/meditec/int/home.html. The company is listed under the stock ticker AFX_X."
        },
        {
            "metadata": {},
            "cell_type": "markdown",
            "source": "You can find the detailed Quandl API instructions here: https://docs.quandl.com/docs/time-series"
        },
        {
            "metadata": {},
            "cell_type": "markdown",
            "source": "While there is a dedicated Python package for connecting to the Quandl API, we would prefer that you use the *requests* package, which can be easily downloaded using *pip* or *conda*. You can find the documentation for the package here: http://docs.python-requests.org/en/master/ "
        },
        {
            "metadata": {},
            "cell_type": "markdown",
            "source": "Finally, apart from the *requests* package, you are encouraged to not use any third party Python packages, such as *pandas*, and instead focus on what's available in the Python Standard Library (the *collections* module might come in handy: https://pymotw.com/3/collections/ ).\nAlso, since you won't have access to DataFrames, you are encouraged to us Python's native data structures - preferably dictionaries, though some questions can also be answered using lists.\nYou can read more on these data structures here: https://docs.python.org/3/tutorial/datastructures.html"
        },
        {
            "metadata": {},
            "cell_type": "markdown",
            "source": "Keep in mind that the JSON responses you will be getting from the API map almost one-to-one to Python's dictionaries. Unfortunately, they can be very nested, so make sure you read up on indexing dictionaries in the documentation provided above."
        },
        {
            "metadata": {},
            "cell_type": "code",
            "source": "# First, import the relevant modules\n!pip install requests\nimport requests\nimport json",
            "execution_count": 131,
            "outputs": [
                {
                    "output_type": "stream",
                    "text": "Requirement already satisfied: requests in /opt/conda/envs/Python36/lib/python3.6/site-packages (2.21.0)\r\nRequirement already satisfied: urllib3<1.25,>=1.21.1 in /opt/conda/envs/Python36/lib/python3.6/site-packages (from requests) (1.24.1)\r\nRequirement already satisfied: certifi>=2017.4.17 in /opt/conda/envs/Python36/lib/python3.6/site-packages (from requests) (2020.4.5.1)\r\nRequirement already satisfied: chardet<3.1.0,>=3.0.2 in /opt/conda/envs/Python36/lib/python3.6/site-packages (from requests) (3.0.4)\r\nRequirement already satisfied: idna<2.9,>=2.5 in /opt/conda/envs/Python36/lib/python3.6/site-packages (from requests) (2.8)\r\n",
                    "name": "stdout"
                }
            ]
        },
        {
            "metadata": {},
            "cell_type": "code",
            "source": "# Now, call the Quandl API and pull out a small sample of the data (only one day) to get a glimpse\n# into the JSON structure that will be returned\n\nresponse = requests.get(\"https://www.quandl.com/api/v3/datasets/FSE/AFX_X.json?start_date=2020-04-16&end_date=2020-04-16&api_key=\"+API_KEY)\nprint(response.text)",
            "execution_count": 132,
            "outputs": [
                {
                    "output_type": "stream",
                    "text": "{\"dataset\":{\"id\":10095370,\"dataset_code\":\"AFX_X\",\"database_code\":\"FSE\",\"name\":\"Carl Zeiss Meditec (AFX_X)\",\"description\":\"Stock Prices for Carl Zeiss Meditec (2020-04-02) from the Frankfurt Stock Exchange.\\u003cbr\\u003e\\u003cbr\\u003eTrading System: Xetra\\u003cbr\\u003e\\u003cbr\\u003eISIN: DE0005313704\",\"refreshed_at\":\"2020-04-16T22:16:32.423Z\",\"newest_available_date\":\"2020-04-16\",\"oldest_available_date\":\"2000-06-07\",\"column_names\":[\"Date\",\"Open\",\"High\",\"Low\",\"Close\",\"Change\",\"Traded Volume\",\"Turnover\",\"Last Price of the Day\",\"Daily Traded Units\",\"Daily Turnover\"],\"frequency\":\"daily\",\"type\":\"Time Series\",\"premium\":false,\"limit\":null,\"transform\":null,\"column_index\":null,\"start_date\":\"2020-04-16\",\"end_date\":\"2020-04-16\",\"data\":[[\"2020-04-16\",91.9,92.75,90.7,91.45,null,162831.0,14907520.55,null,null,null]],\"collapse\":null,\"order\":null,\"database_id\":6129}}\n",
                    "name": "stdout"
                }
            ]
        },
        {
            "metadata": {},
            "cell_type": "code",
            "source": "# Inspect the JSON structure of the object you created, and take note of how nested it is,\n# as well as the overall structure\n\ntest_data=json.loads(response.text)\nprint(test_data)",
            "execution_count": 133,
            "outputs": [
                {
                    "output_type": "stream",
                    "text": "{'dataset': {'id': 10095370, 'dataset_code': 'AFX_X', 'database_code': 'FSE', 'name': 'Carl Zeiss Meditec (AFX_X)', 'description': 'Stock Prices for Carl Zeiss Meditec (2020-04-02) from the Frankfurt Stock Exchange.<br><br>Trading System: Xetra<br><br>ISIN: DE0005313704', 'refreshed_at': '2020-04-16T22:16:32.423Z', 'newest_available_date': '2020-04-16', 'oldest_available_date': '2000-06-07', 'column_names': ['Date', 'Open', 'High', 'Low', 'Close', 'Change', 'Traded Volume', 'Turnover', 'Last Price of the Day', 'Daily Traded Units', 'Daily Turnover'], 'frequency': 'daily', 'type': 'Time Series', 'premium': False, 'limit': None, 'transform': None, 'column_index': None, 'start_date': '2020-04-16', 'end_date': '2020-04-16', 'data': [['2020-04-16', 91.9, 92.75, 90.7, 91.45, None, 162831.0, 14907520.55, None, None, None]], 'collapse': None, 'order': None, 'database_id': 6129}}\n",
                    "name": "stdout"
                }
            ]
        },
        {
            "metadata": {},
            "cell_type": "markdown",
            "source": "These are your tasks for this mini project:\n\n1. Collect data from the Franfurt Stock Exchange, for the ticker AFX_X, for the whole year 2017 (keep in mind that the date format is YYYY-MM-DD).\n2. Convert the returned JSON object into a Python dictionary.\n3. Calculate what the highest and lowest opening prices were for the stock in this period.\n4. What was the largest change in any one day (based on High and Low price)?\n5. What was the largest change between any two days (based on Closing Price)?\n6. What was the average daily trading volume during this year?\n7. (Optional) What was the median trading volume during this year. (Note: you may need to implement your own function for calculating the median.)"
        },
        {
            "metadata": {},
            "cell_type": "code",
            "source": "#1\n\nresponse = requests.get(\"https://www.quandl.com/api/v3/datasets/FSE/AFX_X.json?start_date=2017-01-01&end_date=2017-12-31&api_key=\"+API_KEY)\n",
            "execution_count": 134,
            "outputs": []
        },
        {
            "metadata": {},
            "cell_type": "code",
            "source": "#2\n\njson_data = json.loads(response.text)",
            "execution_count": 135,
            "outputs": []
        },
        {
            "metadata": {},
            "cell_type": "code",
            "source": "#3\n\nhigh_price = json_data['dataset']['data'][0][1]\nlow_price = json_data['dataset']['data'][0][1]\n\nfor i in json_data['dataset']['data']:\n    if(i[1] is not None):\n        if(i[1] > high_price): \n            high_price = i[1]\n        if(i[1] < low_price):\n            low_price = i[1]\n    else:\n        continue\n\nprint(\"Highest opening prices were for the stock in this period:\", high_price)\nprint(\"Lowest opening prices were for the stock in this period:\", low_price)\n",
            "execution_count": 136,
            "outputs": [
                {
                    "output_type": "stream",
                    "text": "Highest opening prices were for the stock in this period: 53.11\nLowest opening prices were for the stock in this period: 34.0\n",
                    "name": "stdout"
                }
            ]
        },
        {
            "metadata": {},
            "cell_type": "code",
            "source": "#4\n\ndiff = list()\n\nfor i in json_data['dataset']['data']:\n    if(i[2], i[3] is not None):\n        diff.append(i[2] - i[3])\n    else:\n        continue\n\nprint(\"The largest change in any one day(based on High and Low price):\",max(diff))",
            "execution_count": 137,
            "outputs": [
                {
                    "output_type": "stream",
                    "text": "The largest change in any one day(based on High and Low price): 2.8100000000000023\n",
                    "name": "stdout"
                }
            ]
        },
        {
            "metadata": {},
            "cell_type": "code",
            "source": "#5\n\nclosing_price = list()\n\nfor i in json_data['dataset']['data']:\n    if(i[4] is not None):\n        closing_price.append(i[4])\n    else:\n        continue\n\nres = [closing_price[i + 1] - closing_price[i] for i in range(len(closing_price)-1)]\n\nprint(\"The largest change between any two days(based on Closing Price):\",max(res))",
            "execution_count": 138,
            "outputs": [
                {
                    "output_type": "stream",
                    "text": "The largest change between any two days(based on Closing Price): 2.559999999999995\n",
                    "name": "stdout"
                }
            ]
        },
        {
            "metadata": {},
            "cell_type": "code",
            "source": "#6\n\ntrading_volume = list()\n\nfor i in json_data['dataset']['data']:\n    if(i[6] is not None):\n        trading_volume.append(i[6])\n    else:\n        continue\n\nprint(\"Average daily trading volume during this year:\",round((sum(trading_volume)/len(trading_volume)),2))",
            "execution_count": 139,
            "outputs": [
                {
                    "output_type": "stream",
                    "text": "Average daily trading volume during this year: 89124.34\n",
                    "name": "stdout"
                }
            ]
        },
        {
            "metadata": {},
            "cell_type": "code",
            "source": "#7\n\ndef median_calc(num_list):\n    n = len(num_list)\n    num_list.sort()\n  \n    if n % 2 == 0: \n        median1 = num_list[n//2] \n        median2 = num_list[n//2 - 1] \n        median = (median1 + median2)/2\n    else: \n        median = num_list[n//2]\n    \n    return int(median)\n\nprint(\"Median trading volume during this year:\",median_calc(trading_volume))",
            "execution_count": 140,
            "outputs": [
                {
                    "output_type": "stream",
                    "text": "Median trading volume during this year: 76286\n",
                    "name": "stdout"
                }
            ]
        }
    ],
    "metadata": {
        "kernelspec": {
            "name": "python3",
            "display_name": "Python 3.6",
            "language": "python"
        },
        "language_info": {
            "name": "python",
            "version": "3.6.9",
            "mimetype": "text/x-python",
            "codemirror_mode": {
                "name": "ipython",
                "version": 3
            },
            "pygments_lexer": "ipython3",
            "nbconvert_exporter": "python",
            "file_extension": ".py"
        }
    },
    "nbformat": 4,
    "nbformat_minor": 2
}